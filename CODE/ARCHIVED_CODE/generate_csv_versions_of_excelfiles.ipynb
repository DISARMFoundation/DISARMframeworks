{
 "cells": [
  {
   "cell_type": "markdown",
   "metadata": {},
   "source": [
    "# Generate CSV version of DISARM dataset\n",
    "\n",
    "Generate CSV files to match older Excelfile versions of DISARM"
   ]
  },
  {
   "cell_type": "code",
   "execution_count": null,
   "metadata": {},
   "outputs": [],
   "source": [
    "\n",
    "import pandas as pd\n",
    "import os\n",
    "\n",
    "MASTERDATA_DIR = '../DISARM_MASTER_DATA/'\n",
    "\n",
    "    \n",
    "frameworkfile = MASTERDATA_DIR + 'DISARM_FRAMEWORKS_MASTER.xlsx' \n",
    "datafile = MASTERDATA_DIR + 'DISARM_DATA_MASTER.xlsx'\n",
    "#commentsfile = MASTERDATA_DIR + 'DISARM_COMMENTS_MASTER.csv'\n",
    "        \n",
    "# Get basic datasets from files\n",
    "metadata = {}\n",
    "for filein in [frameworkfile, datafile]:\n",
    "    xlsx = pd.ExcelFile(filein)\n",
    "    for sheetname in xlsx.sheet_names:\n",
    "        print('{} sheet {}'.format(filein, sheetname))\n",
    "        metadata[sheetname] = xlsx.parse(sheetname)\n",
    "        metadata[sheetname].fillna('', inplace=True)\n",
    "        metadata[sheetname].to_csv(MASTERDATA_DIR + sheetname + '.csv', index=False)\n",
    "\n",
    "# create cross tables using DISARM code\n",
    "def create_cross_table(df, col, newcol, divider=','):\n",
    "    crosstable = df.join(df[col]\n",
    "                    .str.split(divider, expand=True).stack()\n",
    "                    .reset_index(drop=True,level=1)\n",
    "                    .rename(newcol)).drop(col, axis=1)\n",
    "    crosstable = crosstable[crosstable[newcol].notnull()]\n",
    "    crosstable[newcol+'_id'] = crosstable[newcol].str.split(' ').str[0]\n",
    "    crosstable.drop(newcol, axis=1, inplace=True)\n",
    "    return crosstable\n",
    "\n",
    "def create_incident_technique_crosstable(it_metadata):\n",
    "    # Generate full cross-table between incidents and techniques\n",
    "    it = it_metadata\n",
    "    it.index=it['disarm_id']\n",
    "    it = it['technique_ids'].str.split(',').apply(lambda x: pd.Series(x)).stack().reset_index(level=1, drop=True).to_frame('technique_id').reset_index().merge(it.drop('disarm_id', axis=1).reset_index()).drop('technique_ids', axis=1)\n",
    "    it = it.merge(self.df_incidents[['disarm_id','name']], \n",
    "                  left_on='incident_id', right_on='disarm_id',\n",
    "                  suffixes=['','_incident']).drop('incident_id', axis=1)\n",
    "    it = it.merge(self.df_techniques[['disarm_id','name']], \n",
    "                  left_on='technique_id', right_on='disarm_id',\n",
    "                  suffixes=['','_technique']).drop('technique_id', axis=1)\n",
    "    return(it)\n",
    "\n",
    "it = create_incident_technique_crosstable(metadata['incidenttechniques'])\n",
    "cross_counterid_techniqueid = create_cross_table(df_counters[['disarm_id', 'techniques']], \n",
    "                                                           'techniques', 'technique', '\\n')        \n",
    "cross_counterid_resourceid = create_cross_table(df_counters[['disarm_id', 'resources_needed']], \n",
    "                                                          'resources_needed', 'resource', ',')\n",
    "cross_counterid_actortypeid = create_cross_table(self.df_counters[['disarm_id', 'actortypes']], \n",
    "                                                          'actortypes', 'actortype', ',')\n",
    "cross_detectionid_techniqueid = create_cross_table(self.df_detections[['disarm_id', 'techniques']], \n",
    "                                                           'techniques', 'technique', '\\n')        \n",
    "cross_detectionid_resourceid = create_cross_table(self.df_detections[['disarm_id', 'resources_needed']], \n",
    "                                                          'resources_needed', 'resource', ',')\n",
    "cross_detectionid_actortypeid = create_cross_table(self.df_detections[['disarm_id', 'actortypes']], \n",
    "                                                          'actortypes', 'actortype', ',')\n",
    "\n"
   ]
  },
  {
   "cell_type": "code",
   "execution_count": null,
   "metadata": {},
   "outputs": [],
   "source": []
  }
 ],
 "metadata": {
  "kernelspec": {
   "display_name": "Python 3",
   "language": "python",
   "name": "python3"
  },
  "language_info": {
   "codemirror_mode": {
    "name": "ipython",
    "version": 3
   },
   "file_extension": ".py",
   "mimetype": "text/x-python",
   "name": "python",
   "nbconvert_exporter": "python",
   "pygments_lexer": "ipython3",
   "version": "3.8.3"
  }
 },
 "nbformat": 4,
 "nbformat_minor": 4
}
